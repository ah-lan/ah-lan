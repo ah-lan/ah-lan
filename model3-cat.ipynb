{
 "cells": [
  {
   "cell_type": "code",
   "execution_count": 1,
   "id": "d6dcdc63",
   "metadata": {
    "execution": {
     "iopub.execute_input": "2025-02-25T13:30:34.670738Z",
     "iopub.status.busy": "2025-02-25T13:30:34.670379Z",
     "iopub.status.idle": "2025-02-25T13:30:40.164279Z",
     "shell.execute_reply": "2025-02-25T13:30:40.163113Z"
    },
    "papermill": {
     "duration": 5.499073,
     "end_time": "2025-02-25T13:30:40.166305",
     "exception": false,
     "start_time": "2025-02-25T13:30:34.667232",
     "status": "completed"
    },
    "tags": []
   },
   "outputs": [
    {
     "name": "stdout",
     "output_type": "stream",
     "text": [
      "Requirement already satisfied: catboost in /usr/local/lib/python3.10/dist-packages (1.2.7)\r\n",
      "Requirement already satisfied: graphviz in /usr/local/lib/python3.10/dist-packages (from catboost) (0.20.3)\r\n",
      "Requirement already satisfied: matplotlib in /usr/local/lib/python3.10/dist-packages (from catboost) (3.7.5)\r\n",
      "Requirement already satisfied: numpy<2.0,>=1.16.0 in /usr/local/lib/python3.10/dist-packages (from catboost) (1.26.4)\r\n",
      "Requirement already satisfied: pandas>=0.24 in /usr/local/lib/python3.10/dist-packages (from catboost) (2.2.3)\r\n",
      "Requirement already satisfied: scipy in /usr/local/lib/python3.10/dist-packages (from catboost) (1.13.1)\r\n",
      "Requirement already satisfied: plotly in /usr/local/lib/python3.10/dist-packages (from catboost) (5.24.1)\r\n",
      "Requirement already satisfied: six in /usr/local/lib/python3.10/dist-packages (from catboost) (1.17.0)\r\n",
      "Requirement already satisfied: mkl_fft in /usr/local/lib/python3.10/dist-packages (from numpy<2.0,>=1.16.0->catboost) (1.3.8)\r\n",
      "Requirement already satisfied: mkl_random in /usr/local/lib/python3.10/dist-packages (from numpy<2.0,>=1.16.0->catboost) (1.2.4)\r\n",
      "Requirement already satisfied: mkl_umath in /usr/local/lib/python3.10/dist-packages (from numpy<2.0,>=1.16.0->catboost) (0.1.1)\r\n",
      "Requirement already satisfied: mkl in /usr/local/lib/python3.10/dist-packages (from numpy<2.0,>=1.16.0->catboost) (2025.0.1)\r\n",
      "Requirement already satisfied: tbb4py in /usr/local/lib/python3.10/dist-packages (from numpy<2.0,>=1.16.0->catboost) (2022.0.0)\r\n",
      "Requirement already satisfied: mkl-service in /usr/local/lib/python3.10/dist-packages (from numpy<2.0,>=1.16.0->catboost) (2.4.1)\r\n",
      "Requirement already satisfied: python-dateutil>=2.8.2 in /usr/local/lib/python3.10/dist-packages (from pandas>=0.24->catboost) (2.9.0.post0)\r\n",
      "Requirement already satisfied: pytz>=2020.1 in /usr/local/lib/python3.10/dist-packages (from pandas>=0.24->catboost) (2025.1)\r\n",
      "Requirement already satisfied: tzdata>=2022.7 in /usr/local/lib/python3.10/dist-packages (from pandas>=0.24->catboost) (2025.1)\r\n",
      "Requirement already satisfied: contourpy>=1.0.1 in /usr/local/lib/python3.10/dist-packages (from matplotlib->catboost) (1.3.1)\r\n",
      "Requirement already satisfied: cycler>=0.10 in /usr/local/lib/python3.10/dist-packages (from matplotlib->catboost) (0.12.1)\r\n",
      "Requirement already satisfied: fonttools>=4.22.0 in /usr/local/lib/python3.10/dist-packages (from matplotlib->catboost) (4.55.3)\r\n",
      "Requirement already satisfied: kiwisolver>=1.0.1 in /usr/local/lib/python3.10/dist-packages (from matplotlib->catboost) (1.4.7)\r\n",
      "Requirement already satisfied: packaging>=20.0 in /usr/local/lib/python3.10/dist-packages (from matplotlib->catboost) (24.2)\r\n",
      "Requirement already satisfied: pillow>=6.2.0 in /usr/local/lib/python3.10/dist-packages (from matplotlib->catboost) (11.0.0)\r\n",
      "Requirement already satisfied: pyparsing>=2.3.1 in /usr/local/lib/python3.10/dist-packages (from matplotlib->catboost) (3.2.0)\r\n",
      "Requirement already satisfied: tenacity>=6.2.0 in /usr/local/lib/python3.10/dist-packages (from plotly->catboost) (9.0.0)\r\n",
      "Requirement already satisfied: intel-openmp>=2024 in /usr/local/lib/python3.10/dist-packages (from mkl->numpy<2.0,>=1.16.0->catboost) (2024.2.0)\r\n",
      "Requirement already satisfied: tbb==2022.* in /usr/local/lib/python3.10/dist-packages (from mkl->numpy<2.0,>=1.16.0->catboost) (2022.0.0)\r\n",
      "Requirement already satisfied: tcmlib==1.* in /usr/local/lib/python3.10/dist-packages (from tbb==2022.*->mkl->numpy<2.0,>=1.16.0->catboost) (1.2.0)\r\n",
      "Requirement already satisfied: intel-cmplr-lib-rt in /usr/local/lib/python3.10/dist-packages (from mkl_umath->numpy<2.0,>=1.16.0->catboost) (2024.2.0)\r\n",
      "Requirement already satisfied: intel-cmplr-lib-ur==2024.2.0 in /usr/local/lib/python3.10/dist-packages (from intel-openmp>=2024->mkl->numpy<2.0,>=1.16.0->catboost) (2024.2.0)\r\n"
     ]
    }
   ],
   "source": [
    "!pip install catboost\n"
   ]
  },
  {
   "cell_type": "code",
   "execution_count": 2,
   "id": "32688c27",
   "metadata": {
    "execution": {
     "iopub.execute_input": "2025-02-25T13:30:40.171874Z",
     "iopub.status.busy": "2025-02-25T13:30:40.171541Z",
     "iopub.status.idle": "2025-02-25T13:31:29.827307Z",
     "shell.execute_reply": "2025-02-25T13:31:29.826165Z"
    },
    "papermill": {
     "duration": 49.660234,
     "end_time": "2025-02-25T13:31:29.829006",
     "exception": false,
     "start_time": "2025-02-25T13:30:40.168772",
     "status": "completed"
    },
    "tags": []
   },
   "outputs": [
    {
     "name": "stdout",
     "output_type": "stream",
     "text": [
      "0:\tlearn: 1.2715139\ttest: 1.2721233\tbest: 1.2721233 (0)\ttotal: 125ms\tremaining: 2m 5s\n",
      "100:\tlearn: 0.1367997\ttest: 0.1408146\tbest: 0.1408146 (100)\ttotal: 4.65s\tremaining: 41.4s\n",
      "200:\tlearn: 0.0990432\ttest: 0.1043669\tbest: 0.1043669 (200)\ttotal: 8.87s\tremaining: 35.2s\n",
      "300:\tlearn: 0.0843901\ttest: 0.0910185\tbest: 0.0910185 (300)\ttotal: 13.1s\tremaining: 30.3s\n",
      "400:\tlearn: 0.0749489\ttest: 0.0830407\tbest: 0.0830407 (400)\ttotal: 17.3s\tremaining: 25.9s\n",
      "500:\tlearn: 0.0676373\ttest: 0.0768709\tbest: 0.0768709 (500)\ttotal: 21.6s\tremaining: 21.5s\n",
      "600:\tlearn: 0.0613862\ttest: 0.0717804\tbest: 0.0717804 (600)\ttotal: 26.5s\tremaining: 17.6s\n",
      "700:\tlearn: 0.0564555\ttest: 0.0677180\tbest: 0.0677180 (700)\ttotal: 30.7s\tremaining: 13.1s\n",
      "800:\tlearn: 0.0518288\ttest: 0.0639336\tbest: 0.0639336 (800)\ttotal: 35.1s\tremaining: 8.71s\n",
      "900:\tlearn: 0.0479921\ttest: 0.0609061\tbest: 0.0609061 (900)\ttotal: 39.3s\tremaining: 4.32s\n",
      "999:\tlearn: 0.0447548\ttest: 0.0584090\tbest: 0.0584090 (999)\ttotal: 43.5s\tremaining: 0us\n",
      "\n",
      "bestTest = 0.05840898917\n",
      "bestIteration = 999\n",
      "\n",
      "\n",
      "Accuracy: 0.980386803185438\n",
      "Precision: 0.9700869028283526\n",
      "Recall: 0.9748809255185771\n",
      "F1 Score: 0.9724616721400423\n"
     ]
    }
   ],
   "source": [
    "import pandas as pd\n",
    "import numpy as np\n",
    "from sklearn.model_selection import train_test_split\n",
    "from sklearn.preprocessing import StandardScaler\n",
    "from catboost import CatBoostClassifier, Pool\n",
    "\n",
    "\n",
    "df = pd.read_csv(\"/kaggle/input/imu-dataset/IMU.csv\")\n",
    "\n",
    "# 2. Feature Engineering (Example - Adapt to your needs)\n",
    "def create_features(df):\n",
    "    df['accel_magnitude'] = np.sqrt(df['Axel_X_C9']**2 + df['Axel_Y_C9']**2 + df['Axel_Z_C9']**2)\n",
    "    df['gyro_magnitude'] = np.sqrt(df['Gyro_X_C9']**2 + df['Gyro_Y_C9']**2 + df['Gyro_Z_C9']**2)\n",
    "    # Add more features here as needed\n",
    "    return df\n",
    "\n",
    "df = create_features(df)\n",
    "\n",
    "X = df.drop(\"target\", axis=1)  # Replace \"target\" with your column name\n",
    "y = df[\"target\"]\n",
    "\n",
    "\n",
    "scaler = StandardScaler()\n",
    "X = scaler.fit_transform(X)\n",
    "\n",
    "X_train, X_test, y_train, y_test = train_test_split(X, y, test_size=0.2, random_state=42, stratify=y)\n",
    "\n",
    "model = CatBoostClassifier(iterations=1000, \n",
    "                           learning_rate=0.05, \n",
    "                           depth=6,\n",
    "                           early_stopping_rounds=50,  # Stop early if no improvement\n",
    "                           verbose=100)  # Print out every 100 iterations\n",
    "\n",
    "model.fit(X_train, y_train, eval_set=(X_test, y_test))\n",
    "\n",
    "y_pred = model.predict(X_test)\n",
    "\n",
    "from sklearn.metrics import accuracy_score, precision_score, recall_score, f1_score\n",
    "print(\"\\nAccuracy:\", accuracy_score(y_test, y_pred))\n",
    "print(\"Precision:\", precision_score(y_test, y_pred, average='macro'))\n",
    "print(\"Recall:\", recall_score(y_test, y_pred, average='macro'))\n",
    "print(\"F1 Score:\", f1_score(y_test, y_pred, average='macro'))\n"
   ]
  }
 ],
 "metadata": {
  "kaggle": {
   "accelerator": "none",
   "dataSources": [
    {
     "datasetId": 6552734,
     "sourceId": 10587923,
     "sourceType": "datasetVersion"
    },
    {
     "datasetId": 6738372,
     "sourceId": 10849732,
     "sourceType": "datasetVersion"
    }
   ],
   "dockerImageVersionId": 30918,
   "isGpuEnabled": false,
   "isInternetEnabled": false,
   "language": "python",
   "sourceType": "notebook"
  },
  "kernelspec": {
   "display_name": "Python 3",
   "language": "python",
   "name": "python3"
  },
  "language_info": {
   "codemirror_mode": {
    "name": "ipython",
    "version": 3
   },
   "file_extension": ".py",
   "mimetype": "text/x-python",
   "name": "python",
   "nbconvert_exporter": "python",
   "pygments_lexer": "ipython3",
   "version": "3.10.12"
  },
  "papermill": {
   "default_parameters": {},
   "duration": 58.653868,
   "end_time": "2025-02-25T13:31:30.552195",
   "environment_variables": {},
   "exception": null,
   "input_path": "__notebook__.ipynb",
   "output_path": "__notebook__.ipynb",
   "parameters": {},
   "start_time": "2025-02-25T13:30:31.898327",
   "version": "2.6.0"
  }
 },
 "nbformat": 4,
 "nbformat_minor": 5
}
