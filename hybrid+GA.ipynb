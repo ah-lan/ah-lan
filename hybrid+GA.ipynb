{
  "nbformat": 4,
  "nbformat_minor": 0,
  "metadata": {
    "colab": {
      "provenance": [],
      "authorship_tag": "ABX9TyO22n44MTvQSwsc0DUbdI2+",
      "include_colab_link": true
    },
    "kernelspec": {
      "name": "python3",
      "display_name": "Python 3"
    },
    "language_info": {
      "name": "python"
    }
  },
  "cells": [
    {
      "cell_type": "markdown",
      "metadata": {
        "id": "view-in-github",
        "colab_type": "text"
      },
      "source": [
        "<a href=\"https://colab.research.google.com/github/ah-lan/ah-lan/blob/main/hybrid%2BGA.ipynb\" target=\"_parent\"><img src=\"https://colab.research.google.com/assets/colab-badge.svg\" alt=\"Open In Colab\"/></a>"
      ]
    },
    {
      "cell_type": "code",
      "source": [
        "!pip install deap\n"
      ],
      "metadata": {
        "colab": {
          "base_uri": "https://localhost:8080/"
        },
        "id": "fvlrEMdpOJQT",
        "outputId": "83d2e327-03ca-49fb-d295-ed2204846642"
      },
      "execution_count": 4,
      "outputs": [
        {
          "output_type": "stream",
          "name": "stdout",
          "text": [
            "Collecting deap\n",
            "  Downloading deap-1.4.2-cp311-cp311-manylinux_2_5_x86_64.manylinux1_x86_64.manylinux_2_17_x86_64.manylinux2014_x86_64.whl.metadata (13 kB)\n",
            "Requirement already satisfied: numpy in /usr/local/lib/python3.11/dist-packages (from deap) (2.0.2)\n",
            "Downloading deap-1.4.2-cp311-cp311-manylinux_2_5_x86_64.manylinux1_x86_64.manylinux_2_17_x86_64.manylinux2014_x86_64.whl (135 kB)\n",
            "\u001b[?25l   \u001b[90m━━━━━━━━━━━━━━━━━━━━━━━━━━━━━━━━━━━━━━━━\u001b[0m \u001b[32m0.0/135.4 kB\u001b[0m \u001b[31m?\u001b[0m eta \u001b[36m-:--:--\u001b[0m\r\u001b[2K   \u001b[91m━━━━━━━━━━━━━━━━━━━━━━━━━━━━━━━━━━━━━━━\u001b[0m\u001b[90m╺\u001b[0m \u001b[32m133.1/135.4 kB\u001b[0m \u001b[31m5.1 MB/s\u001b[0m eta \u001b[36m0:00:01\u001b[0m\r\u001b[2K   \u001b[90m━━━━━━━━━━━━━━━━━━━━━━━━━━━━━━━━━━━━━━━━\u001b[0m \u001b[32m135.4/135.4 kB\u001b[0m \u001b[31m3.5 MB/s\u001b[0m eta \u001b[36m0:00:00\u001b[0m\n",
            "\u001b[?25hInstalling collected packages: deap\n",
            "Successfully installed deap-1.4.2\n"
          ]
        }
      ]
    },
    {
      "cell_type": "code",
      "source": [
        "import numpy as np\n",
        "import pandas as pd\n",
        "import joblib\n",
        "import tensorflow as tf\n",
        "from sklearn.preprocessing import MinMaxScaler\n",
        "from sklearn.metrics import classification_report, confusion_matrix\n",
        "from tensorflow.keras.models import Sequential\n",
        "from tensorflow.keras.layers import Input, Conv1D, MaxPooling1D, LSTM, Dense, Dropout, TimeDistributed, Flatten\n",
        "from tensorflow.keras.callbacks import EarlyStopping\n",
        "import matplotlib.pyplot as plt\n",
        "import seaborn as sns\n",
        "from scipy.signal import butter, filtfilt\n",
        "from deap import base, creator, tools, algorithms\n",
        "import random\n",
        "import warnings\n",
        "warnings.filterwarnings('ignore')"
      ],
      "metadata": {
        "id": "TBW35UwEOW5L"
      },
      "execution_count": 5,
      "outputs": []
    },
    {
      "cell_type": "code",
      "source": [
        "train_data = pd.read_csv(\"/U001_train_intention.csv\")\n",
        "test_data = pd.read_csv(\"/U001_test_intention.csv\")"
      ],
      "metadata": {
        "id": "vwfW8sFvOxdx"
      },
      "execution_count": 7,
      "outputs": []
    },
    {
      "cell_type": "code",
      "source": [
        "imu_sensors = ['B6', '3B', 'BB', 'C9', 'B5']\n",
        "features = [\n",
        "    'Axel_X_B6', 'Axel_Y_B6', 'Axel_Z_B6', 'Gyro_X_B6', 'Gyro_Y_B6', 'Gyro_Z_B6',\n",
        "    'Axel_X_C9', 'Axel_Y_C9', 'Axel_Z_C9', 'Gyro_X_C9', 'Gyro_Y_C9', 'Gyro_Z_C9',\n",
        "    'Axel_X_3B', 'Axel_Y_3B', 'Axel_Z_3B', 'Gyro_X_3B', 'Gyro_Y_3B', 'Gyro_Z_3B',\n",
        "    'Axel_X_BB', 'Axel_Y_BB', 'Axel_Z_BB', 'Gyro_X_BB', 'Gyro_Y_BB', 'Gyro_Z_BB',\n",
        "    'Axel_X_B5', 'Axel_Y_B5', 'Axel_Z_B5', 'Gyro_X_B5', 'Gyro_Y_B5', 'Gyro_Z_B5'\n",
        "]\n",
        "\n",
        "# ================== Preprocessing ==================\n",
        "def butter_lowpass_filter(data, cutoff=5.0, fs=100.0, order=4):\n",
        "    nyquist = 0.5 * fs\n",
        "    normal_cutoff = cutoff / nyquist\n",
        "    b, a = butter(order, normal_cutoff, btype='low', analog=False)\n",
        "    return filtfilt(b, a, data)"
      ],
      "metadata": {
        "id": "iDy16XZ2O1nT"
      },
      "execution_count": 8,
      "outputs": []
    },
    {
      "cell_type": "code",
      "source": [
        "for feature in features:\n",
        "    train_data[feature] = butter_lowpass_filter(train_data[feature].values)\n",
        "    test_data[feature] = butter_lowpass_filter(test_data[feature].values)\n",
        "\n",
        "def classify_posture_from_target(target):\n",
        "    if target in [0, 1]:\n",
        "        return 1  # good posture\n",
        "    elif target in [2, 3]:\n",
        "        return 0  # poor posture\n",
        "    return np.nan\n",
        "\n",
        "train_data['posture_label'] = train_data['target'].apply(classify_posture_from_target)\n",
        "test_data['posture_label'] = test_data['target'].apply(classify_posture_from_target)\n",
        "\n",
        "train_data.dropna(subset=['posture_label'], inplace=True)\n",
        "test_data.dropna(subset=['posture_label'], inplace=True)\n",
        "\n",
        "X_train = train_data[features].values\n",
        "y_train = train_data['posture_label'].values\n",
        "X_test = test_data[features].values\n",
        "y_test = test_data['posture_label'].values\n",
        "\n",
        "scaler = MinMaxScaler(feature_range=(-1, 1))\n",
        "X_train = scaler.fit_transform(X_train)\n",
        "X_test = scaler.transform(X_test)\n",
        "\n",
        "X_train = X_train.reshape((X_train.shape[0], 1, X_train.shape[1], 1))\n",
        "X_test = X_test.reshape((X_test.shape[0], 1, X_test.shape[1], 1))\n"
      ],
      "metadata": {
        "id": "JjRp9ebZPBs_"
      },
      "execution_count": 9,
      "outputs": []
    },
    {
      "cell_type": "code",
      "source": [
        "# ================== CNN-LSTM Model Function ==================\n",
        "def build_model(dropout_rate, lstm_units, dense_units):\n",
        "    model = Sequential([\n",
        "        Input(shape=(1, len(features), 1)),\n",
        "        TimeDistributed(Conv1D(64, kernel_size=3, activation='relu', padding='same')),\n",
        "        TimeDistributed(MaxPooling1D(pool_size=2)),\n",
        "        TimeDistributed(Conv1D(32, kernel_size=3, activation='relu', padding='same')),\n",
        "        TimeDistributed(MaxPooling1D(pool_size=2)),\n",
        "        TimeDistributed(Flatten()),\n",
        "        LSTM(int(lstm_units), return_sequences=False),\n",
        "        Dense(int(dense_units), activation='relu'),\n",
        "        Dropout(dropout_rate),\n",
        "        Dense(1, activation='sigmoid')\n",
        "    ])\n",
        "    model.compile(optimizer='adam', loss='binary_crossentropy', metrics=['accuracy'])\n",
        "    return model\n"
      ],
      "metadata": {
        "id": "AzbwC0poPNaX"
      },
      "execution_count": 10,
      "outputs": []
    },
    {
      "cell_type": "code",
      "source": [
        "# ================== DEAP Genetic Algorithm Setup ==================\n",
        "creator.create(\"FitnessMax\", base.Fitness, weights=(1.0,))\n",
        "creator.create(\"Individual\", list, fitness=creator.FitnessMax)\n",
        "\n",
        "def generate_individual():\n",
        "    return [random.uniform(0.2, 0.7), random.randint(32, 128), random.randint(32, 128)]\n",
        "\n",
        "toolbox = base.Toolbox()\n",
        "toolbox.register(\"individual\", tools.initIterate, creator.Individual, generate_individual)\n",
        "toolbox.register(\"population\", tools.initRepeat, list, toolbox.individual)\n",
        "\n",
        "def evaluate(individual):\n",
        "    dropout, lstm_units, dense_units = individual\n",
        "    model = build_model(dropout, lstm_units, dense_units)\n",
        "    history = model.fit(\n",
        "        X_train, y_train,\n",
        "        epochs=5,\n",
        "        batch_size=32,\n",
        "        validation_data=(X_test, y_test),\n",
        "        verbose=0,\n",
        "        callbacks=[EarlyStopping(monitor='val_loss', patience=2, restore_best_weights=True)]\n",
        "    )\n",
        "    _, acc = model.evaluate(X_test, y_test, verbose=0)\n",
        "    return (acc,)\n",
        "\n",
        "toolbox.register(\"evaluate\", evaluate)\n",
        "toolbox.register(\"mate\", tools.cxBlend, alpha=0.5)\n",
        "toolbox.register(\"mutate\", tools.mutGaussian, mu=0, sigma=0.1, indpb=0.2)\n",
        "toolbox.register(\"select\", tools.selTournament, tournsize=3)\n"
      ],
      "metadata": {
        "id": "YmxIZHxrPVaA"
      },
      "execution_count": 11,
      "outputs": []
    },
    {
      "cell_type": "code",
      "source": [
        "# ================== Run GA ==================\n",
        "population = toolbox.population(n=5)\n",
        "algorithms.eaSimple(population, toolbox, cxpb=0.7, mutpb=0.2, ngen=3, verbose=True)\n",
        "\n",
        "# ================== Best Model ==================\n",
        "best_ind = tools.selBest(population, 1)[0]\n",
        "print(f\"\\nBest Hyperparameters → Dropout={best_ind[0]:.2f}, LSTM Units={int(best_ind[1])}, Dense Units={int(best_ind[2])}\")\n",
        "\n",
        "final_model = build_model(*best_ind)\n",
        "history = final_model.fit(X_train, y_train, epochs=20, batch_size=32, validation_data=(X_test, y_test), callbacks=[EarlyStopping(monitor='val_loss', patience=3, restore_best_weights=True)])"
      ],
      "metadata": {
        "colab": {
          "base_uri": "https://localhost:8080/"
        },
        "id": "N7Bb7VbbPdj3",
        "outputId": "88b68d83-2747-4fa7-a346-c6e2b9997b40"
      },
      "execution_count": 12,
      "outputs": [
        {
          "output_type": "stream",
          "name": "stdout",
          "text": [
            "gen\tnevals\n",
            "0  \t5     \n",
            "1  \t4     \n",
            "2  \t1     \n",
            "3  \t4     \n",
            "\n",
            "Best Hyperparameters → Dropout=0.54, LSTM Units=105, Dense Units=107\n",
            "Epoch 1/20\n",
            "\u001b[1m3434/3434\u001b[0m \u001b[32m━━━━━━━━━━━━━━━━━━━━\u001b[0m\u001b[37m\u001b[0m \u001b[1m39s\u001b[0m 10ms/step - accuracy: 0.9620 - loss: 0.0964 - val_accuracy: 0.9429 - val_loss: 0.2013\n",
            "Epoch 2/20\n",
            "\u001b[1m3434/3434\u001b[0m \u001b[32m━━━━━━━━━━━━━━━━━━━━\u001b[0m\u001b[37m\u001b[0m \u001b[1m46s\u001b[0m 12ms/step - accuracy: 0.9834 - loss: 0.0407 - val_accuracy: 0.9425 - val_loss: 0.2341\n",
            "Epoch 3/20\n",
            "\u001b[1m3434/3434\u001b[0m \u001b[32m━━━━━━━━━━━━━━━━━━━━\u001b[0m\u001b[37m\u001b[0m \u001b[1m38s\u001b[0m 11ms/step - accuracy: 0.9841 - loss: 0.0383 - val_accuracy: 0.9491 - val_loss: 0.2532\n",
            "Epoch 4/20\n",
            "\u001b[1m3434/3434\u001b[0m \u001b[32m━━━━━━━━━━━━━━━━━━━━\u001b[0m\u001b[37m\u001b[0m \u001b[1m41s\u001b[0m 11ms/step - accuracy: 0.9840 - loss: 0.0349 - val_accuracy: 0.9370 - val_loss: 0.3815\n"
          ]
        }
      ]
    },
    {
      "cell_type": "code",
      "execution_count": 13,
      "metadata": {
        "colab": {
          "base_uri": "https://localhost:8080/",
          "height": 819
        },
        "id": "J1Y18IH-MpMa",
        "outputId": "70365e00-8b40-4249-fb2f-17299f8b025e"
      },
      "outputs": [
        {
          "output_type": "stream",
          "name": "stdout",
          "text": [
            "\u001b[1m455/455\u001b[0m \u001b[32m━━━━━━━━━━━━━━━━━━━━\u001b[0m\u001b[37m\u001b[0m \u001b[1m4s\u001b[0m 8ms/step - accuracy: 0.9418 - loss: 0.1955\n",
            "\n",
            "Test Accuracy: 94.29%\n",
            "\u001b[1m455/455\u001b[0m \u001b[32m━━━━━━━━━━━━━━━━━━━━\u001b[0m\u001b[37m\u001b[0m \u001b[1m5s\u001b[0m 8ms/step\n"
          ]
        },
        {
          "output_type": "display_data",
          "data": {
            "text/plain": [
              "<Figure size 600x500 with 2 Axes>"
            ],
            "image/png": "[encoded data removed]"
          },
          "metadata": {}
        },
        {
          "output_type": "stream",
          "name": "stderr",
          "text": [
            "WARNING:absl:You are saving your model as an HDF5 file via `model.save()` or `keras.saving.save_model(model)`. This file format is considered legacy. We recommend using instead the native Keras format, e.g. `model.save('my_model.keras')` or `keras.saving.save_model(model, 'my_model.keras')`. \n"
          ]
        },
        {
          "output_type": "stream",
          "name": "stdout",
          "text": [
            "\n",
            "Classification Report:\n",
            "                  precision    recall  f1-score   support\n",
            "\n",
            "Poor Posture (0)       0.76      0.87      0.81      2071\n",
            "Good Posture (1)       0.98      0.96      0.97     12477\n",
            "\n",
            "        accuracy                           0.94     14548\n",
            "       macro avg       0.87      0.91      0.89     14548\n",
            "    weighted avg       0.95      0.94      0.94     14548\n",
            "\n",
            "\n",
            "Model and scaler saved successfully.\n"
          ]
        }
      ],
      "source": [
        "\n",
        "# ================== Evaluation ==================\n",
        "loss, accuracy = final_model.evaluate(X_test, y_test)\n",
        "print(f\"\\nTest Accuracy: {accuracy * 100:.2f}%\")\n",
        "\n",
        "y_pred = (final_model.predict(X_test) > 0.5).astype(int)\n",
        "\n",
        "conf_matrix = confusion_matrix(y_test, y_pred)\n",
        "plt.figure(figsize=(6, 5))\n",
        "sns.heatmap(conf_matrix, annot=True, fmt='d', cmap='Blues',\n",
        "            xticklabels=['Poor Posture (0)', 'Good Posture (1)'],\n",
        "            yticklabels=['Poor Posture (0)', 'Good Posture (1)'])\n",
        "plt.xlabel('Predicted')\n",
        "plt.ylabel('Actual')\n",
        "plt.title('Confusion Matrix')\n",
        "plt.show()\n",
        "\n",
        "print(\"\\nClassification Report:\")\n",
        "print(classification_report(y_test, y_pred, target_names=['Poor Posture (0)', 'Good Posture (1)']))\n",
        "\n",
        "# ================== Save Model and Scaler ==================\n",
        "final_model.save('best_cnn_lstm_posture_model_ga.h5')\n",
        "joblib.dump(scaler, 'minmax_scaler.pkl')\n",
        "print(\"\\nModel and scaler saved successfully.\")\n"
      ]
    },
    {
      "cell_type": "markdown",
      "source": [
        "# New Section"
      ],
      "metadata": {
        "id": "ORTPPXS4MuqD"
      }
    }
  ]
}